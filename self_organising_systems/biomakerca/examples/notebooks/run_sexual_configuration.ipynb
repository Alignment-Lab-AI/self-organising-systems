{
  "cells": [
    {
      "cell_type": "markdown",
      "metadata": {
        "id": "LpQvs2DVfkVy"
      },
      "source": [
        "# Biomaker CA: performing advanced runs on a configuration\n",
        "\n",
        "In this colab we show how to run models on a configuration and how to evaluate them.\n",
        "\n",
        "This colab allows to choose whether to perform sexual and/or asexual reproduction.\n",
        "It also allows for sparse computations of agent logics.\n",
        "\n",
        "Copyright 2023 Google LLC\n",
        "\n",
        "Licensed under the Apache License, Version 2.0 (the \"License\");\n",
        "you may not use this file except in compliance with the License.\n",
        "You may obtain a copy of the License at\n",
        "\n",
        "    https://www.apache.org/licenses/LICENSE-2.0\n",
        "\n",
        "Unless required by applicable law or agreed to in writing, software\n",
        "distributed under the License is distributed on an \"AS IS\" BASIS,\n",
        "WITHOUT WARRANTIES OR CONDITIONS OF ANY KIND, either express or implied.\n",
        "See the License for the specific language governing permissions and\n",
        "limitations under the License."
      ]
    },
    {
      "cell_type": "markdown",
      "metadata": {
        "id": "iuhJcrwNgIEF"
      },
      "source": [
        "## Imports"
      ]
    },
    {
      "cell_type": "code",
      "execution_count": null,
      "metadata": {
        "id": "287RU0sup5J2"
      },
      "outputs": [],
      "source": [
        "#@title install selforg package\n",
        "# install the package locally\n",
        "!pip install --upgrade -e git+https://github.com/google-research/self-organising-systems.git#egg=self_organising_systems\u0026subdirectory=biomakerca\n",
        "# activate the locally installed package (otherwise a runtime restart is required)\n",
        "import pkg_resources\n",
        "import importlib\n",
        "# Reload the resources because we uninstalled and reinstalled some packages.\n",
        "importlib.reload(pkg_resources)\n",
        "pkg_resources.get_distribution(\"self_organising_systems\").activate()"
      ]
    },
    {
      "cell_type": "code",
      "execution_count": null,
      "metadata": {
        "id": "DY7J0cz7NUCV"
      },
      "outputs": [],
      "source": [
        "#@title imports \u0026 notebook utilities\n",
        "\n",
        "from self_organising_systems.biomakerca import environments as evm\n",
        "from self_organising_systems.biomakerca.agent_logic import BasicAgentLogic\n",
        "from self_organising_systems.biomakerca.mutators import BasicMutator\n",
        "from self_organising_systems.biomakerca.mutators import RandomlyAdaptiveMutator\n",
        "from self_organising_systems.biomakerca.mutators import CrossOverSexualMutator\n",
        "from self_organising_systems.biomakerca.step_maker import step_env\n",
        "from self_organising_systems.biomakerca.display_utils import zoom, tile2d, add_text_to_img, imshow\n",
        "from self_organising_systems.biomakerca.custom_ipython_display import display\n",
        "from self_organising_systems.biomakerca.env_logic import env_perform_multi_world_reproduce_update\n",
        "\n",
        "import cv2\n",
        "import numpy as np\n",
        "import jax.random as jr\n",
        "import jax.numpy as jp\n",
        "from jax import vmap\n",
        "from jax import jit\n",
        "import jax\n",
        "import time\n",
        "import matplotlib.pyplot as plt\n",
        "\n",
        "import tqdm\n",
        "import mediapy as media\n",
        "from functools import partial\n",
        "\n",
        "\n",
        "def pad_text(img, text):\n",
        "  font = cv2.FONT_HERSHEY_SIMPLEX\n",
        "  orgin = (5, 15)\n",
        "  fontScale = 0.5\n",
        "  color = (0, 0, 0)\n",
        "  thickness = 1\n",
        "\n",
        "  # ensure to preserve even size (assumes the input size was even.\n",
        "  new_h = img.shape[0]//15\n",
        "  new_h = new_h if new_h % 2 == 0  else new_h + 1\n",
        "  img = np.concatenate([np.ones([new_h, img.shape[1], img.shape[2]]), img], 0)\n",
        "  img = cv2.putText(img, text, orgin, font, fontScale, color, thickness, cv2.LINE_AA)\n",
        "  return img"
      ]
    },
    {
      "cell_type": "markdown",
      "metadata": {
        "id": "aRRMQ1aNhqv6"
      },
      "source": [
        "## Select the configuration, the agent logic and the mutator\n",
        "\n",
        "Set soil_unbalance_limit to 0 to reproduce the original environment. Set it to 1/3 for having self-balancing environments (recommended)."
      ]
    },
    {
      "cell_type": "code",
      "execution_count": null,
      "metadata": {
        "id": "dtc32MAfOBTK"
      },
      "outputs": [],
      "source": [
        "ec_id = \"persistence\" #@param ['persistence', 'pestilence', 'collaboration', 'sideways']\n",
        "env_width_type = \"wide\" #@param ['wide', 'landscape', 'square', 'petri', '10x', '20x']\n",
        "soil_unbalance_limit = 1/3 #@param [0, \"1/3\"] {type:\"raw\"}\n",
        "\n",
        "h = 72\n",
        "if env_width_type == \"10x\":\n",
        "  env_width_type = h * 10\n",
        "if env_width_type == \"20x\":\n",
        "  env_width_type = h * 20\n",
        "else:\n",
        "  env_width_type = evm.infer_width(h, env_width_type)\n",
        "\n",
        "env_and_config = evm.get_env_and_config(ec_id, width_type=env_width_type, h=h)\n",
        "_, config = env_and_config\n",
        "\n",
        "st_env = evm.create_multiseed_environment(h, env_width_type, config)\n",
        "\n",
        "config.soil_unbalance_limit = soil_unbalance_limit\n",
        "reproduction_type = \"asexual\" #@param ['both', 'asexual', 'sexual']\n",
        "does_sex_matter = True #@param ['False', 'True'] {type:\"raw\"}\n",
        "\n",
        "enable_asexual_reproduction = reproduction_type != \"sexual\"\n",
        "enable_sexual_reproduction = reproduction_type != \"asexual\"\n",
        "\n",
        "sex_sensitivity = 1000 #@param [1, 10, 100, 1000] {type:\"raw\"}\n",
        "\n",
        "agent_model = \"extended\" #@param ['minimal', 'extended']\n",
        "agent_logic = BasicAgentLogic(config, minimal_net=agent_model==\"minimal\",\n",
        "                              make_asexual_flowers_likely=enable_asexual_reproduction,\n",
        "                              make_sexual_flowers_likely=enable_sexual_reproduction,\n",
        "                              init_noise=0.001, sex_sensitivity=sex_sensitivity)\n",
        "\n",
        "n_sparse_max = 2**13 #@param ['None', '2**13', '2**12', '2**11', '2**10'] {type:\"raw\"}\n",
        "\n",
        "mutator_type = \"randomly_adaptive\" #@param ['basic', 'randomly_adaptive']\n",
        "sd = 1e-3\n",
        "mutator = (BasicMutator(sd=sd, change_perc=0.2) if mutator_type == \"basic\"\n",
        "           else RandomlyAdaptiveMutator(init_sd=sd, change_perc=0.2))\n",
        "sexual_mutator = CrossOverSexualMutator(mutator, n_frequencies=64)\n",
        "\n",
        "exp_id = \"{}_sm^{}_sens^{}_w^{}\".format(reproduction_type, does_sex_matter, sex_sensitivity, env_width_type)\n",
        "print(exp_id)"
      ]
    },
    {
      "cell_type": "markdown",
      "metadata": {
        "id": "y3p9hXhKuSk2"
      },
      "source": [
        "## Optionally, modify the config for custom configurations"
      ]
    },
    {
      "cell_type": "code",
      "execution_count": null,
      "metadata": {
        "id": "cKshhtYDvE81"
      },
      "outputs": [],
      "source": [
        "print(\"Current config:\")\n",
        "print('\\n'.join(\"%s: %s\" % item for item in vars(config).items()))"
      ]
    },
    {
      "cell_type": "code",
      "execution_count": null,
      "metadata": {
        "id": "H1wR-EQium-X"
      },
      "outputs": [],
      "source": [
        "## Examples for modifying the config\n",
        "## Uncomment relevant lines or do like them.\n",
        "\n",
        "## Regardless, to trigger the recomputation of step_env and similar,\n",
        "## config needs to be a new object! So, first, we create a new copy.\n",
        "import copy\n",
        "config = copy.copy(config)\n",
        "\n",
        "## Change simple isolated parameters (most of them)\n",
        "# config.struct_integrity_cap = 100\n",
        "# config.max_lifetime = 500\n",
        "## Vectors can be modified either by writing new vectors:\n",
        "# config.dissipation_per_step = jp.array([0.02, 0.02])\n",
        "## Or by multiplying previous values. Note that they are immutable!\n",
        "# config.dissipation_per_step = config.dissipation_per_step * 2\n",
        "\n",
        "## agent_state_size is trickier, because it influences env_state_size.\n",
        "## So you can either create a new config:\n",
        "## Note that you would have to insert all values that you don't want to take\n",
        "## default initializations.\n",
        "# config = evm.EnvConfig(agent_state_size=4)\n",
        "## Or you can just modify env_state_size as well.\n",
        "## (env_state_size = agent_state_size + 4) for now.\n",
        "# config.agent_state_size = 4\n",
        "# config.env_state_size = config.agent_state_size + 4\n"
      ]
    },
    {
      "cell_type": "markdown",
      "metadata": {
        "id": "Y-xLUg_Uh14k"
      },
      "source": [
        "## Perform a simulation\n",
        "\n",
        "Consider modifying the code to vary the extent of the simulation and video configs."
      ]
    },
    {
      "cell_type": "code",
      "execution_count": null,
      "metadata": {
        "id": "8tj0U8naJDC3"
      },
      "outputs": [],
      "source": [
        "# create auxiliary frames that show interesting counters.\n",
        "\n",
        "def make_aux_frame(n_asex, n_sex):\n",
        "  img = np.ones([130 if reproduction_type == \"both\" else 65, 550, 3])\n",
        "  yorigin = 50\n",
        "  if enable_asexual_reproduction:\n",
        "    img = add_text_to_img(\n",
        "        img, \"Asexual reproductions: {}\".format(n_asex),\n",
        "        origin=(20, yorigin), color=\"black\")\n",
        "    yorigin = 100\n",
        "  if enable_sexual_reproduction:\n",
        "    img = add_text_to_img(\n",
        "        img, \"Sexual reproductions:  {}\".format(n_sex),\n",
        "        origin=(20, yorigin), color=\"black\")\n",
        "  return img\n",
        "\n",
        "imshow(make_aux_frame(100000, 212122))\n",
        "\n",
        "def make_nsexes_frame(n_sexes):\n",
        "  img = np.ones([65, 300, 3])\n",
        "  yorigin = 50\n",
        "  img = add_text_to_img(\n",
        "      img, \"Num sexes: {}\".format(n_sexes),\n",
        "      origin=(20, yorigin), color=\"black\")\n",
        "  return img\n",
        "\n",
        "imshow(make_nsexes_frame(200))"
      ]
    },
    {
      "cell_type": "code",
      "execution_count": null,
      "metadata": {
        "id": "6OMyOYUUHodo"
      },
      "outputs": [],
      "source": [
        "\n",
        "@partial(jit, static_argnames=[\"config\", \"n_max_programs\"])\n",
        "def get_alive_programs_mask(env, config, n_max_programs):\n",
        "  aid_flat = env.agent_id_grid.flatten()\n",
        "  is_agent_flat = config.etd.is_agent_fn(env.type_grid).flatten().astype(jp.float32)\n",
        "  n_alive_per_id = jax.ops.segment_sum(is_agent_flat, aid_flat, num_segments=n_max_programs)\n",
        "\n",
        "  has_alive = n_alive_per_id \u003e 0\n",
        "  return has_alive\n",
        "\n",
        "@jit\n",
        "def get_alive_and_sexes(env, programs):\n",
        "  has_alive = get_alive_programs_mask(env, config, N_MAX_PROGRAMS)\n",
        "  all_sexes = vmap(agent_logic.get_sex)(mutator.split_params(programs)[0])\n",
        "  return has_alive, all_sexes\n",
        "\n",
        "def get_num_sexes(env, programs):\n",
        "  has_alive, all_sexes = get_alive_and_sexes(env, programs)\n",
        "  has_alive = np.array(has_alive)\n",
        "  all_sexes = np.array(all_sexes)\n",
        "\n",
        "  sexes = all_sexes[has_alive]\n",
        "  return len(np.unique(sexes))\n",
        "\n",
        "def run_env(\n",
        "    key, programs, env, n_steps, step_f,\n",
        "    curr_asexual_repr = 0, curr_sexual_repr = 0,\n",
        "    zoom_sz=12,\n",
        "    steps_per_frame=2, when_to_double_speed=[100, 500, 1000, 2000, 5000]):\n",
        "\n",
        "  fps = 20\n",
        "  def make_frame(env):\n",
        "    return zoom(evm.grab_image_from_env(env, config),zoom_sz)\n",
        "\n",
        "  frame = make_frame(env)\n",
        "\n",
        "  # remember that the metrics are per step, right now, and that are 'inbetween'\n",
        "  # frames, at best.\n",
        "  n_asexual_repr_log = []\n",
        "  n_sexual_repr_log = []\n",
        "  n_sexes_log = []\n",
        "\n",
        "  aux_frames = [make_aux_frame(0, 0)]\n",
        "  num_sexes_frames = [make_nsexes_frame(get_num_sexes(env, programs))]\n",
        "\n",
        "  out_file = \"video.mp4\"\n",
        "  with media.VideoWriter(out_file, shape=frame.shape[:2], fps=fps, crf=18\n",
        "                        ) as video:\n",
        "    video.add_image(frame)\n",
        "    for i in tqdm.trange(n_steps):\n",
        "      if i in when_to_double_speed:\n",
        "        steps_per_frame *= 2\n",
        "\n",
        "      key, ku = jr.split(key)\n",
        "      (env, programs), metrics = step_f(ku, env, programs=programs)\n",
        "\n",
        "      if enable_asexual_reproduction:\n",
        "        step_asex_repr = int(metrics[\"asexual_reproduction\"][0].sum())\n",
        "        n_asexual_repr_log.append(step_asex_repr)\n",
        "        curr_asexual_repr += step_asex_repr\n",
        "      if enable_sexual_reproduction:\n",
        "        step_sexual_repr = int(metrics[\"sexual_reproduction\"][0].sum())\n",
        "        n_sexual_repr_log.append(step_sexual_repr)\n",
        "        curr_sexual_repr += step_sexual_repr\n",
        "\n",
        "      # get sexes alive\n",
        "      num_sexes = get_num_sexes(env, programs)\n",
        "      n_sexes_log.append(num_sexes)\n",
        "      if i % steps_per_frame == 0:\n",
        "        video.add_image(make_frame(env))\n",
        "        aux_frames.append(make_aux_frame(curr_asexual_repr, curr_sexual_repr))\n",
        "        num_sexes_frames.append(make_nsexes_frame(num_sexes))\n",
        "\n",
        "\n",
        "  media.show_video(media.read_video(out_file))\n",
        "  media.show_video(aux_frames, fps=fps)\n",
        "  media.show_video(num_sexes_frames, fps=fps)\n",
        "  ret_metrics = {'n_asexual_repr_log': n_asexual_repr_log,\n",
        "                 'n_sexual_repr_log': n_sexual_repr_log,\n",
        "                 'n_sexes_log': n_sexes_log,\n",
        "                 'curr_asexual_repr': curr_asexual_repr,\n",
        "                 'curr_sexual_repr': curr_sexual_repr}\n",
        "  return programs, env, ret_metrics"
      ]
    },
    {
      "cell_type": "code",
      "execution_count": null,
      "metadata": {
        "id": "65WC-fp1aI1Y"
      },
      "outputs": [],
      "source": [
        "key = jr.PRNGKey(42)\n",
        "\n",
        "# How many unique programs (organisms) are allowed in the simulation.\n",
        "N_MAX_PROGRAMS = 512\n",
        "\n",
        "# for 20x environments, you need shorter videos.\n",
        "n_steps = 15000\n",
        "\n",
        "# on what FRAME to double speed.\n",
        "when_to_double_speed = [100, 200, 300, 400, 500]\n",
        "# on what FRAME to reset speed.\n",
        "when_to_reset_speed = []\n",
        "fps = 20\n",
        "# this affects the size of the image. If this number is not even, the resulting\n",
        "# video *may* not be supported by all renderers.\n",
        "zoom_sz = 4\n",
        "\n",
        "ku, key = jr.split(key)\n",
        "programs = vmap(agent_logic.initialize)(jr.split(ku, N_MAX_PROGRAMS))\n",
        "ku, key = jr.split(key)\n",
        "programs = vmap(mutator.initialize)(jr.split(ku, programs.shape[0]), programs)\n",
        "\n",
        "env = st_env\n",
        "\n",
        "step_f = partial(step_env, config=config, agent_logic=agent_logic, do_reproduction=True,\n",
        "          enable_asexual_reproduction=enable_asexual_reproduction,\n",
        "          enable_sexual_reproduction=enable_sexual_reproduction,\n",
        "          does_sex_matter=does_sex_matter,\n",
        "          mutate_programs=True, mutator=mutator, sexual_mutator=sexual_mutator,\n",
        "          n_sparse_max=n_sparse_max, return_metrics=True)\n",
        "\n",
        "step = 0\n",
        "# how many steps per frame we start with. This gets usually doubled many times\n",
        "# during the simulation.\n",
        "# In the article, we usually use 2 or 4 as the starting value, sometimes 1.\n",
        "steps_per_frame = 2\n",
        "\n",
        "ku, key = jr.split(key)\n",
        "programs, env, metrics = run_env(\n",
        "    ku, programs, env, n_steps, step_f, zoom_sz=6)\n",
        "\n",
        "\n",
        "\n",
        "def running_average(a, n):\n",
        "  a = np.concatenate([np.full([n], a[0]), a], axis=0)\n",
        "  return np.convolve(a, np.ones(n)/n, mode=\"valid\")\n",
        "\n",
        "if enable_asexual_reproduction:\n",
        "  plt.plot(running_average(metrics['n_asexual_repr_log'], 100), label=\"n_asexual_repr_log\")\n",
        "if enable_sexual_reproduction:\n",
        "  plt.plot(running_average(metrics['n_sexual_repr_log'], 100), label=\"n_sexual_repr_log\")\n",
        "plt.legend()\n",
        "plt.show()\n",
        "\n",
        "plt.plot(running_average(metrics['n_sexes_log'], 100), label=\"n_sexes_log\")\n",
        "plt.legend()\n",
        "plt.show()\n",
        "\n",
        "aid_flat = env.agent_id_grid.flatten()\n",
        "is_agent_flat = config.etd.is_agent_fn(env.type_grid).flatten().astype(jp.float32)\n",
        "n_alive_per_id = jax.ops.segment_sum(is_agent_flat, aid_flat, num_segments=N_MAX_PROGRAMS)\n",
        "alive_programs = programs[n_alive_per_id\u003e0]\n",
        "print(\"Extracted {} programs.\".format(alive_programs.shape[0]))\n",
        "print(\"sexes:\", vmap(agent_logic.get_sex)(mutator.split_params(alive_programs)[0]))"
      ]
    },
    {
      "cell_type": "code",
      "execution_count": null,
      "metadata": {
        "id": "oBggxzAZm4lM"
      },
      "outputs": [],
      "source": [
        "# continue...\n",
        "n_steps = 25000\n",
        "ku, key = jr.split(key)\n",
        "\n",
        "programs, env, metrics = run_env(\n",
        "    ku, programs, env, n_steps, step_f, zoom_sz=6,\n",
        "    steps_per_frame=64, when_to_double_speed=[],\n",
        "    curr_asexual_repr=metrics['curr_asexual_repr'],\n",
        "    curr_sexual_repr=metrics['curr_sexual_repr'])\n",
        "\n",
        "\n",
        "if enable_asexual_reproduction:\n",
        "  plt.plot(running_average(metrics['n_asexual_repr_log'], 100), label=\"n_asexual_repr_log\")\n",
        "if enable_sexual_reproduction:\n",
        "  plt.plot(running_average(metrics['n_sexual_repr_log'], 100), label=\"n_sexual_repr_log\")\n",
        "plt.legend()\n",
        "plt.show()\n",
        "\n",
        "plt.plot(running_average(metrics['n_sexes_log'], 100), label=\"n_sexes_log\")\n",
        "plt.legend()\n",
        "plt.show()\n",
        "\n",
        "aid_flat = env.agent_id_grid.flatten()\n",
        "is_agent_flat = config.etd.is_agent_fn(env.type_grid).flatten().astype(jp.float32)\n",
        "n_alive_per_id = jax.ops.segment_sum(is_agent_flat, aid_flat, num_segments=N_MAX_PROGRAMS)\n",
        "alive_programs = programs[n_alive_per_id\u003e0]\n",
        "print(\"Extracted {} programs.\".format(alive_programs.shape[0]))\n",
        "print(\"sexes:\", vmap(agent_logic.get_sex)(mutator.split_params(alive_programs)[0]))\n"
      ]
    }
  ],
  "metadata": {
    "accelerator": "GPU",
    "colab": {
      "gpuType": "V100",
      "last_runtime": {
        "build_target": "//learning/grp/tools/ml_python:ml_notebook",
        "kind": "private"
      },
      "machine_shape": "hm",
      "name": "run_sexual_configuration.ipynb",
      "private_outputs": true,
      "provenance": [
        {
          "file_id": "1rgSP9D1gT3S4Aljk-jLys8dFbla2InCu",
          "timestamp": 1708355883667
        },
        {
          "file_id": "/piper/depot/google3/third_party/py/self_organising_systems/biomakerca/examples/notebooks/run_configuration.ipynb?workspaceId=etr:biomaker::citc",
          "timestamp": 1701254768987
        },
        {
          "file_id": "1ADfcMRj-JmfN6VUIcuqU-3bTMGrWSkj_",
          "timestamp": 1688723295778
        },
        {
          "file_id": "1XY102qIEc9MY9hd-Jb6Oirmyw7ga2LZL",
          "timestamp": 1688637712371
        }
      ],
      "toc_visible": true
    },
    "kernelspec": {
      "display_name": "Python 3",
      "name": "python3"
    },
    "language_info": {
      "name": "python"
    }
  },
  "nbformat": 4,
  "nbformat_minor": 0
}
