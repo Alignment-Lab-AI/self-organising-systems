{
  "cells": [
    {
      "cell_type": "markdown",
      "metadata": {
        "id": "LpQvs2DVfkVy"
      },
      "source": [
        "# Biomaker CA: performing runs on a configuration\n",
        "\n",
        "In this colab we show how to run models on a configuration and how to evaluate them.\n",
        "\n",
        "We also show how to extract some agents at the end of a run and how to evaluate them in a fresh run.\n",
        "\n",
        "This colab is consistent with the [original paper](https://arxiv.org/abs/2307.09320). It is not forward-compatible, so make sure to install the git tagged version 'biomaker-v1.0.0'.\n",
        "\n",
        "Copyright 2023 Google LLC\n",
        "\n",
        "Licensed under the Apache License, Version 2.0 (the \"License\");\n",
        "you may not use this file except in compliance with the License.\n",
        "You may obtain a copy of the License at\n",
        "\n",
        "    https://www.apache.org/licenses/LICENSE-2.0\n",
        "\n",
        "Unless required by applicable law or agreed to in writing, software\n",
        "distributed under the License is distributed on an \"AS IS\" BASIS,\n",
        "WITHOUT WARRANTIES OR CONDITIONS OF ANY KIND, either express or implied.\n",
        "See the License for the specific language governing permissions and\n",
        "limitations under the License."
      ]
    },
    {
      "cell_type": "markdown",
      "metadata": {
        "id": "iuhJcrwNgIEF"
      },
      "source": [
        "## Imports"
      ]
    },
    {
      "cell_type": "code",
      "execution_count": null,
      "metadata": {
        "id": "287RU0sup5J2"
      },
      "outputs": [],
      "source": [
        "#@title install selforg package\n",
        "# install the package locally\n",
        "!pip install --upgrade -e git+https://github.com/google-research/self-organising-systems.git@biomaker-v1.0.0#egg=self_organising_systems\u0026subdirectory=biomakerca\n",
        "# activate the locally installed package (otherwise a runtime restart is required)\n",
        "import pkg_resources\n",
        "import importlib\n",
        "# Reload the resources because we uninstalled and reinstalled some packages.\n",
        "importlib.reload(pkg_resources)\n",
        "pkg_resources.get_distribution(\"self_organising_systems\").activate()"
      ]
    },
    {
      "cell_type": "code",
      "execution_count": null,
      "metadata": {
        "id": "DY7J0cz7NUCV"
      },
      "outputs": [],
      "source": [
        "#@title imports \u0026 notebook utilities\n",
        "from self_organising_systems.biomakerca import environments as evm\n",
        "from self_organising_systems.biomakerca.agent_logic import BasicAgentLogic\n",
        "from self_organising_systems.biomakerca.mutators import BasicMutator\n",
        "from self_organising_systems.biomakerca.mutators import RandomlyAdaptiveMutator\n",
        "from self_organising_systems.biomakerca.step_maker import step_env\n",
        "from self_organising_systems.biomakerca.display_utils import zoom\n",
        "from self_organising_systems.biomakerca.custom_ipython_display import display\n",
        "from self_organising_systems.biomakerca.env_logic import ReproduceOp\n",
        "from self_organising_systems.biomakerca.env_logic import env_perform_one_reproduce_op\n",
        "\n",
        "import cv2\n",
        "import numpy as np\n",
        "import jax.random as jr\n",
        "import jax.numpy as jp\n",
        "from jax import vmap\n",
        "from jax import jit\n",
        "import jax\n",
        "import time\n",
        "\n",
        "import tqdm\n",
        "import mediapy as media\n",
        "from functools import partial\n",
        "\n",
        "\n",
        "def pad_text(img, text):\n",
        "  font = cv2.FONT_HERSHEY_SIMPLEX\n",
        "  orgin = (5, 15)\n",
        "  fontScale = 0.5\n",
        "  color = (0, 0, 0)\n",
        "  thickness = 1\n",
        "\n",
        "  # ensure to preserve even size (assumes the input size was even.\n",
        "  new_h = img.shape[0]//15\n",
        "  new_h = new_h if new_h % 2 == 0  else new_h + 1\n",
        "  img = np.concatenate([np.ones([new_h, img.shape[1], img.shape[2]]), img], 0)\n",
        "  img = cv2.putText(img, text, orgin, font, fontScale, color, thickness, cv2.LINE_AA)\n",
        "  return img"
      ]
    },
    {
      "cell_type": "markdown",
      "metadata": {
        "id": "aRRMQ1aNhqv6"
      },
      "source": [
        "## Select the configuration, the agent logic and the mutator\n",
        "\n",
        "Set soil_unbalance_limit to 0 to reproduce the original environment. Set it to 1/3 for having self-balancing environments (recommended)."
      ]
    },
    {
      "cell_type": "code",
      "execution_count": null,
      "metadata": {
        "id": "dtc32MAfOBTK"
      },
      "outputs": [],
      "source": [
        "ec_id = \"pestilence\" #@param ['persistence', 'pestilence', 'collaboration', 'sideways']\n",
        "env_width_type = \"landscape\" #@param ['wide', 'landscape', 'square', 'petri']\n",
        "soil_unbalance_limit = 0 #@param [0, \"1/3\"] {type:\"raw\"}\n",
        "\n",
        "env_and_config = evm.get_env_and_config(ec_id, width_type=env_width_type)\n",
        "st_env, config = env_and_config\n",
        "config.soil_unbalance_limit = soil_unbalance_limit\n",
        "\n",
        "agent_model = \"extended\" #@param ['minimal', 'extended']\n",
        "agent_logic = BasicAgentLogic(config, minimal_net=agent_model==\"minimal\")\n",
        "\n",
        "mutator_type = \"basic\" #@param ['basic', 'randomly_adaptive']\n",
        "sd = 1e-2 if mutator_type == \"basic\" and agent_model == \"basic\" else 1e-3\n",
        "mutator = (BasicMutator(sd=sd, change_perc=0.2) if mutator_type == \"basic\"\n",
        "           else RandomlyAdaptiveMutator(init_sd=sd, change_perc=0.2))"
      ]
    },
    {
      "cell_type": "markdown",
      "metadata": {
        "id": "y3p9hXhKuSk2"
      },
      "source": [
        "## Optionally, modify the config for custom configurations"
      ]
    },
    {
      "cell_type": "code",
      "execution_count": null,
      "metadata": {
        "id": "cKshhtYDvE81"
      },
      "outputs": [],
      "source": [
        "print(\"Current config:\")\n",
        "print('\\n'.join(\"%s: %s\" % item for item in vars(config).items()))"
      ]
    },
    {
      "cell_type": "code",
      "execution_count": null,
      "metadata": {
        "id": "H1wR-EQium-X"
      },
      "outputs": [],
      "source": [
        "## Examples for modifying the config\n",
        "## Uncomment relevant lines or do like them.\n",
        "\n",
        "## Regardless, to trigger the recomputation of step_env and similar,\n",
        "## config needs to be a new object! So, first, we create a new copy.\n",
        "import copy\n",
        "config = copy.copy(config)\n",
        "\n",
        "## Change simple isolated parameters (most of them)\n",
        "# config.struct_integrity_cap = 100\n",
        "# config.max_lifetime = 500\n",
        "## Vectors can be modified either by writing new vectors:\n",
        "# config.dissipation_per_step = jp.array([0.02, 0.02])\n",
        "## Or by multiplying previous values. Note that they are immutable!\n",
        "# config.dissipation_per_step = config.dissipation_per_step * 2\n",
        "\n",
        "## agent_state_size is trickier, because it influences env_state_size.\n",
        "## So you can either create a new config:\n",
        "## Note that you would have to insert all values that you don't want to take\n",
        "## default initializations.\n",
        "# config = evm.EnvConfig(agent_state_size=4)\n",
        "## Or you can just modify env_state_size as well.\n",
        "## (env_state_size = agent_state_size + 4) for now.\n",
        "# config.agent_state_size = 4\n",
        "# config.env_state_size = config.agent_state_size + 4\n"
      ]
    },
    {
      "cell_type": "markdown",
      "metadata": {
        "id": "Y-xLUg_Uh14k"
      },
      "source": [
        "## Perform a simulation\n",
        "\n",
        "Consider modifying the code to vary the extent of the simulation and video configs."
      ]
    },
    {
      "cell_type": "code",
      "execution_count": null,
      "metadata": {
        "id": "65WC-fp1aI1Y"
      },
      "outputs": [],
      "source": [
        "\n",
        "key = jr.PRNGKey(43)\n",
        "\n",
        "# How many unique programs (organisms) are allowed in the simulation.\n",
        "N_MAX_PROGRAMS = 128\n",
        "\n",
        "# if True, every 50 steps we check whether the agents go extinct. If they did,\n",
        "# we replace a seed in the environment.\n",
        "replace_if_extinct = False\n",
        "\n",
        "# The number of frames of the video. This is NOT the number of steps.\n",
        "# The total number of steps depend on the number of steps per frame, which can\n",
        "# vary over time.\n",
        "# In the article, we generally use 500 or 750 frames.\n",
        "n_frames = 500\n",
        "\n",
        "# on what FRAME to double speed.\n",
        "when_to_double_speed = [100, 200, 300, 400, 500]\n",
        "# on what FRAME to reset speed.\n",
        "when_to_reset_speed = []\n",
        "fps = 20\n",
        "# this affects the size of the image. If this number is not even, the resulting\n",
        "# video *may* not be supported by all renderers.\n",
        "zoom_sz = 4\n",
        "\n",
        "ku, key = jr.split(key)\n",
        "programs = vmap(agent_logic.initialize)(jr.split(ku, N_MAX_PROGRAMS))\n",
        "ku, key = jr.split(key)\n",
        "programs = vmap(mutator.initialize)(jr.split(ku, programs.shape[0]), programs)\n",
        "\n",
        "env = st_env\n",
        "\n",
        "\n",
        "def make_frame(env, step, speed):\n",
        "  return pad_text(zoom(evm.grab_image_from_env(env, config),zoom_sz),\n",
        "                  \"Step {:\u003c7} Speed: {}x\".format(step, speed))\n",
        "\n",
        "step = 0\n",
        "# how many steps per frame we start with. This gets usually doubled many times\n",
        "# during the simulation.\n",
        "# In the article, we usually use 2 or 4 as the starting value, sometimes 1.\n",
        "steps_per_frame = 2\n",
        "\n",
        "frame = make_frame(env, step, steps_per_frame)\n",
        "\n",
        "out_file = \"video.mp4\"\n",
        "with media.VideoWriter(\n",
        "    out_file, shape=frame.shape[:2], fps=fps, crf=18) as video:\n",
        "  video.add_image(frame)\n",
        "  for i in tqdm.trange(n_frames):\n",
        "    if i in when_to_double_speed:\n",
        "      steps_per_frame *= 2\n",
        "    if i in when_to_reset_speed:\n",
        "      steps_per_frame = 1\n",
        "    for j in range(steps_per_frame):\n",
        "      step += 1\n",
        "      key, ku = jr.split(key)\n",
        "      env, programs = step_env(\n",
        "          ku, env, config, agent_logic, programs, do_reproduction=True,\n",
        "            mutate_programs=True, mutator=mutator)\n",
        "      if replace_if_extinct and step % 50 == 0:\n",
        "        # check if there is no alive cell.\n",
        "        any_alive = jit(lambda type_grid: evm.is_agent_fn(type_grid).sum() \u003e 0)(env.type_grid)\n",
        "        if not any_alive:\n",
        "          # Then place a new seed.\n",
        "          agent_init_nutrients = (config.dissipation_per_step * 4 +\n",
        "                                  config.specialize_cost)\n",
        "          ku, key = jr.split(key)\n",
        "          rpos = jp.stack([0, jr.randint(ku, (),minval=0, maxval=env.type_grid.shape[1])],0)\n",
        "          ku, key = jr.split(key)\n",
        "          raid = jr.randint(ku, (),minval=0, maxval=N_MAX_PROGRAMS).astype(jp.uint32)\n",
        "          repr_op = ReproduceOp(1., rpos, agent_init_nutrients*2, raid)\n",
        "          ku, key = jr.split(key)\n",
        "          env = jit(partial(env_perform_one_reproduce_op, config=config))(ku, env, repr_op)\n",
        "\n",
        "          # show it, though\n",
        "          frame = make_frame(env, step, steps_per_frame)\n",
        "          for stop_i in range(10):\n",
        "            video.add_image(frame)\n",
        "\n",
        "    video.add_image(make_frame(env, step, steps_per_frame))\n",
        "\n",
        "media.show_video(media.read_video(out_file))"
      ]
    },
    {
      "cell_type": "markdown",
      "metadata": {
        "id": "Ug37d4bBuCe2"
      },
      "source": [
        "## Evaluate the configuration\n",
        "\n",
        "With this code, you can either evaluate a randomly initialized model, or models extracted from the previous run.\n",
        "\n",
        "In the latter case, make sure that there are agents alive at the end of the simulation."
      ]
    },
    {
      "cell_type": "code",
      "execution_count": null,
      "metadata": {
        "id": "ibvShWfEuEyn"
      },
      "outputs": [],
      "source": [
        "def count_agents_f(env, etd):\n",
        "  return etd.is_agent_fn(env.type_grid).sum()\n",
        "\n",
        "@partial(jit, static_argnames=[\"config\", \"agent_logic\", \"mutator\", \"n_steps\", \"n_max_programs\"])\n",
        "def evaluate_biome(key, st_env, config, agent_logic, mutator, n_steps,\n",
        "                   init_program=None, n_max_programs=128):\n",
        "  def body_f(i, carry):\n",
        "    key, env, programs, tot_agents_n = carry\n",
        "    ku, key = jr.split(key)\n",
        "\n",
        "    env, programs = step_env(\n",
        "        ku, env, config, agent_logic, programs, do_reproduction=True,\n",
        "          mutate_programs=True, mutator=mutator)\n",
        "\n",
        "    tot_agents_n += count_agents_f(env, config.etd)\n",
        "    return key, env, programs, tot_agents_n\n",
        "\n",
        "  if init_program is None:\n",
        "    ku, key = jr.split(key)\n",
        "    programs = vmap(agent_logic.initialize)(jr.split(ku, n_max_programs))\n",
        "    ku, key = jr.split(key)\n",
        "    programs = vmap(mutator.initialize)(jr.split(ku, programs.shape[0]), programs)\n",
        "  else:\n",
        "    programs = jp.repeat(init_program[None, :], n_max_programs, axis=0)\n",
        "\n",
        "  key, env, programs, tot_agents_n = jax.lax.fori_loop(\n",
        "      0, n_steps, body_f, (key, st_env, programs, 0))\n",
        "\n",
        "  # check whether they got extinct:\n",
        "  is_extinct = (count_agents_f(env, config.etd) == 0).astype(jp.int32)\n",
        "  return tot_agents_n, is_extinct"
      ]
    },
    {
      "cell_type": "code",
      "execution_count": null,
      "metadata": {
        "id": "GeVX1e6Dcl2U"
      },
      "outputs": [],
      "source": [
        "what_to_evaluate = \"initialization\" # @param [\"initialization\", \"extracted\"]\n",
        "\n",
        "key = jr.PRNGKey(123)\n",
        "\n",
        "n_steps = 1000\n",
        "n_reps = 16\n",
        "\n",
        "if what_to_evaluate == \"initialization\":\n",
        "  init_programs = None\n",
        "else:\n",
        "  # Extract a living program from the final environment.\n",
        "  aid_flat = env.agent_id_grid.flatten()\n",
        "  is_agent_flat = evm.is_agent_fn(env.type_grid).flatten().astype(jp.float32)\n",
        "  n_alive_per_id = jax.ops.segment_sum(is_agent_flat, aid_flat, num_segments=N_MAX_PROGRAMS)\n",
        "  alive_programs = programs[n_alive_per_id\u003e0]\n",
        "  print(\"Extracted {} programs.\".format(alive_programs.shape[0]))\n",
        "  assert alive_programs.shape[0] \u003e= n_reps, \"Not enough alive programs found.\"\n",
        "\n",
        "  init_programs = alive_programs[:n_reps]\n",
        "\n",
        "\n",
        "t_st = time.time()\n",
        "key, ku = jr.split(key)\n",
        "b_tot_agents_n, b_is_extinct = jit(vmap(partial(\n",
        "    evaluate_biome, st_env=st_env, config=config, agent_logic=agent_logic,\n",
        "    mutator=mutator, n_steps=n_steps)))(jr.split(ku, n_reps), init_program=init_programs)\n",
        "print(\"Took\", time.time()-t_st, \"seconds\")\n",
        "print(\"Total number of agents\", b_tot_agents_n, b_tot_agents_n.mean(), b_tot_agents_n.std())\n",
        "print(\"Extinction events\", b_is_extinct, b_is_extinct.mean(), b_is_extinct.std())"
      ]
    }
  ],
  "metadata": {
    "accelerator": "GPU",
    "colab": {
      "gpuType": "V100",
      "last_runtime": {
        "build_target": "//learning/grp/tools/ml_python:ml_notebook",
        "kind": "private"
      },
      "machine_shape": "hm",
      "private_outputs": true,
      "provenance": [
        {
          "file_id": "1ADfcMRj-JmfN6VUIcuqU-3bTMGrWSkj_",
          "timestamp": 1688723295778
        },
        {
          "file_id": "1XY102qIEc9MY9hd-Jb6Oirmyw7ga2LZL",
          "timestamp": 1688637712371
        }
      ],
      "toc_visible": true
    },
    "kernelspec": {
      "display_name": "Python 3",
      "name": "python3"
    },
    "language_info": {
      "name": "python"
    }
  },
  "nbformat": 4,
  "nbformat_minor": 0
}
